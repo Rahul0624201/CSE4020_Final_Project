{
 "cells": [
  {
   "cell_type": "markdown",
   "id": "a3a808e1",
   "metadata": {},
   "source": [
    "# CSE4020 Final Project"
   ]
  },
  {
   "cell_type": "code",
   "execution_count": 44,
   "id": "535b8bc8",
   "metadata": {},
   "outputs": [],
   "source": [
    "import mysql.connector"
   ]
  },
  {
   "cell_type": "code",
   "execution_count": 45,
   "id": "86e94593",
   "metadata": {},
   "outputs": [],
   "source": [
    "import csv"
   ]
  },
  {
   "cell_type": "code",
   "execution_count": 46,
   "id": "2a3af6ae",
   "metadata": {},
   "outputs": [
    {
     "name": "stdout",
     "output_type": "stream",
     "text": [
      "13 record(s) inserted into the person table\n",
      "7 record(s) inserted into the employee table\n",
      "Error: 1452 (23000): Cannot add or update a child row: a foreign key constraint fails (`db_airways`.`pilot`, CONSTRAINT `pilot_ibfk_1` FOREIGN KEY (`employee_no`) REFERENCES `employee` (`employee_no`))\n"
     ]
    }
   ],
   "source": [
    "tables = [\"person\", \"employee\", \"pilot\", \"aircraft\", \"plane\", \"flight\", \"departure\", \"can_fly\"]\n",
    "\n",
    "insert_statements = {\n",
    "    \"person\": \"INSERT INTO person (name, address, phone) VALUES (%s, %s, %s);\",\n",
    "    \"employee\": \"INSERT INTO employee (name, employee_no, salary) VALUES (%s, %s, %s);\",\n",
    "    \"pilot\": \"INSERT INTO pilot (employee_no, flight_hours) VALUES (%s, %s);\",\n",
    "    \"plane\": \"INSERT INTO plane (maker, model_number) VALUES (%s, %s);\",\n",
    "    \"aircraft\": \"INSERT INTO aircraft (serial_number, model_number) VALUES (%s, %s);\",\n",
    "    \"passenger\": \"INSERT INTO passenger (ticket_number, name) VALUES (%s, %s);\", \n",
    "    \"booked_on\": \"INSERT INTO booked_on (ticket_number, date, flight_number) VALUES (%s, %s, %s);\",\n",
    "    \"assigned_to\": \"INSERT INTO assigned_to (employee_no, date, flight_number) VALUES (%s, %s, %s);\",\n",
    "    \"departure\": \"INSERT INTO departure (date, flight_number) VALUES (%s, %s);\",\n",
    "    \"flight\": \"INSERT INTO flight (flight_number, origin, destination, departure_time, arrival_time, status) VALUES (%s, %s, %s, %s, %s, %s);\",\n",
    "    \"can_fly\": \"INSERT INTO can_fly (employee_no, model_number) VALUES (%s, %s);\"\n",
    "}\n",
    "\n",
    "try:\n",
    "    conn = mysql.connector.connect(\n",
    "        database='db_airways',\n",
    "        user='root',\n",
    "        password='oreois15',\n",
    "        host='localhost'\n",
    "    )\n",
    "    \n",
    "    cursor = conn.cursor()\n",
    "    \n",
    "    csv_files = {\n",
    "    \"person\": \"dataset/person.csv\",\n",
    "    \"employee\": \"dataset/employee.csv\",\n",
    "    \"pilot\": \"dataset/pilot.csv\",\n",
    "    \"plane\": \"dataset/plane.csv\",\n",
    "    \"aircraft\": \"dataset/aircraft.csv\",\n",
    "    \"passenger\": \"dataset/passenger.csv\",\n",
    "    \"departure\": \"dataset/departure.csv\",\n",
    "    \"flight\": \"dataset/flight.csv\",\n",
    "    \"can_fly\": \"dataset/can_fly.csv\"\n",
    "    }\n",
    "\n",
    "    for table in tables:\n",
    "        csv_file = csv_files[table]\n",
    "        \n",
    "        record_count = 0\n",
    "        \n",
    "        with open(csv_file, mode='r') as file:\n",
    "            csv_reader = csv.reader(file)\n",
    "            next(csv_reader)  # Skip header row\n",
    "            \n",
    "            for row in csv_reader:\n",
    "                record = tuple(row)\n",
    "                cursor.execute(insert_statements[table], record)\n",
    "                record_count += 1\n",
    "        \n",
    "        print(f'{record_count} record(s) inserted into the {table} table')\n",
    "\n",
    "    conn.commit()\n",
    "        \n",
    "except mysql.connector.Error as error:\n",
    "    print(f\"Error: {error}\")\n",
    "    conn.rollback()\n",
    "\n",
    "finally:\n",
    "    conn.close()\n"
   ]
  },
  {
   "cell_type": "markdown",
   "id": "3025f25a",
   "metadata": {},
   "source": [
    "test"
   ]
  },
  {
   "cell_type": "code",
   "execution_count": null,
   "id": "ebf751d9",
   "metadata": {},
   "outputs": [],
   "source": []
  }
 ],
 "metadata": {
  "kernelspec": {
   "display_name": "Python 3 (ipykernel)",
   "language": "python",
   "name": "python3"
  },
  "language_info": {
   "codemirror_mode": {
    "name": "ipython",
    "version": 3
   },
   "file_extension": ".py",
   "mimetype": "text/x-python",
   "name": "python",
   "nbconvert_exporter": "python",
   "pygments_lexer": "ipython3",
   "version": "3.11.7"
  }
 },
 "nbformat": 4,
 "nbformat_minor": 5
}
