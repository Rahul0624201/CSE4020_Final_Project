{
  "cells": [
    {
      "cell_type": "markdown",
      "metadata": {
        "id": "view-in-github",
        "colab_type": "text"
      },
      "source": [
        "<a href=\"https://colab.research.google.com/github/Rahul0624201/CSE4020_Final_Project/blob/main/robotArmFrames.ipynb\" target=\"_parent\"><img src=\"https://colab.research.google.com/assets/colab-badge.svg\" alt=\"Open In Colab\"/></a>"
      ]
    },
    {
      "cell_type": "code",
      "execution_count": null,
      "id": "312fd7bf",
      "metadata": {
        "colab": {
          "base_uri": "https://localhost:8080/",
          "height": 35
        },
        "id": "312fd7bf",
        "outputId": "4e6a4d81-6c37-486d-c63f-da9340492481"
      },
      "outputs": [
        {
          "output_type": "execute_result",
          "data": {
            "text/plain": [
              "' Kinematic chain of a robot arm (planar)\\n    Assignment \\n'"
            ],
            "application/vnd.google.colaboratory.intrinsic+json": {
              "type": "string"
            }
          },
          "metadata": {},
          "execution_count": 1
        }
      ],
      "source": [
        "\"\"\" Kinematic chain of a robot arm (planar)\n",
        "    Assignment\n",
        "\"\"\""
      ]
    },
    {
      "cell_type": "markdown",
      "id": "ba6568e4",
      "metadata": {
        "id": "ba6568e4"
      },
      "source": [
        "\n",
        "![](https://github.com/eraldoribeiro/assignment_robotarm2D/blob/main/robotArm01.png?raw=1)\n",
        "*Figure 1*: A two-dimensional articulated arm. The articulated structure has 3 local coordinate frames each one centered at a joint. For each part, the local x-axis is aligned with the part.  \n",
        "\n",
        "Consider the arm structure shown in Figure 1. Assume the following values for the arm configuration:\n",
        "- The location of the first joint (i.e., the one that is attached to the ground support) is ${\\bf p}_1 = \\left(3,2\\right)^\\mathsf{T}$.\n",
        "- The lengths of the parts are $L_1 = 5$ and  $L_2 = 8$."
      ]
    },
    {
      "cell_type": "code",
      "execution_count": null,
      "id": "2a4e0632",
      "metadata": {
        "id": "2a4e0632"
      },
      "outputs": [],
      "source": [
        "import numpy as np\n",
        "import math as mph"
      ]
    },
    {
      "cell_type": "markdown",
      "id": "0b27c659",
      "metadata": {
        "id": "0b27c659"
      },
      "source": [
        "### Question 1\n",
        "\n",
        "Write the matrices that represent the local coordinate frames $\\mathcal F\\{1\\}$, $\\mathcal F\\{2\\}$, and $\\mathcal F\\{3\\}$. These frames are indicated in green in Figure 1. The transformation matrices you need to write are $T_{0,1}$, $T_{1,2}$, and $T_{2,3}$."
      ]
    },
    {
      "cell_type": "code",
      "execution_count": null,
      "id": "5ddc94ae",
      "metadata": {
        "id": "5ddc94ae"
      },
      "outputs": [],
      "source": [
        "# Answer goes here. Add more code/markdown cells as needed\n",
        "\n",
        "# T_{0,1}: Transformation from frame 0 to frame 1\n",
        "p1 = np.array([3, 2])  # Location of the first joint\n",
        "T01 = np.array([[1, 0, p1[0]],\n",
        "               [0, 1, p1[1]],\n",
        "               [0, 0, 1]])\n",
        "\n",
        "# T_{1,2}: Transformation from frame 1 to frame 2\n",
        "L1 = 5  # Length of the first part\n",
        "phi1 = mph.pi / 8 # Assuming phi1 is given or defined elsewhere\n",
        "T12 = np.array([[np.cos(phi1), -np.sin(phi1), L1 * np.cos(phi1)],\n",
        "               [np.sin(phi1), np.cos(phi1), L1 * np.sin(phi1)],\n",
        "               [0, 0, 1]])\n",
        "\n",
        "# T_{2,3}: Transformation from frame 2 to frame 3\n",
        "L2 = 8  # Length of the second part\n",
        "phi2 = mph.pi / 4 # Assuming phi2 is given or defined elsewhere\n",
        "\n",
        "T23 = np.array([[np.cos(phi2), -np.sin(phi2), L2 * np.cos(phi2)],\n",
        "               [np.sin(phi2), np.cos(phi2), L2 * np.sin(phi2)],\n",
        "               [0, 0, 1]])\n",
        "\n",
        "# Display the transformation matrices (optional)\n",
        "print(\"T01:\\n\", T01)\n",
        "print(\"\\nT12:\\n\", T12)\n",
        "print(\"\\nT23:\\n\", T23)\n"
      ]
    },
    {
      "cell_type": "markdown",
      "id": "08eafd4c",
      "metadata": {
        "id": "08eafd4c"
      },
      "source": [
        "### Question 2\n",
        "\n",
        "Write the matrices that represent each local frame w.r.t. the global frame $\\mathcal F\\{0\\}$. The transformations you need to write are $T_{0,1}$, $T_{0,2}$, and $T_{0,3}$."
      ]
    },
    {
      "cell_type": "code",
      "execution_count": null,
      "id": "468d7a8a",
      "metadata": {
        "id": "468d7a8a"
      },
      "outputs": [],
      "source": [
        "# Answer goes here. Add more code/markdown cells as needed\n",
        "# T_{0,1}: Transformation from frame 0 to frame 1 (already defined in Question 1)\n",
        "# T01 = np.array([[1, 0, p1[0]],\n",
        "#                [0, 1, p1[1]],\n",
        "#                [0, 0, 1]])\n",
        "\n",
        "\n",
        "# T_{0,2}: Transformation from frame 0 to frame 2\n",
        "T02 = np.dot(T01, T12)\n",
        "\n",
        "# T_{0,3}: Transformation from frame 0 to frame 3\n",
        "T03 = np.dot(T02, T23)\n",
        "\n",
        "# Display the transformation matrices\n",
        "print(\"T01:\\n\", T01)\n",
        "print(\"\\nT02:\\n\", T02)\n",
        "print(\"\\nT03:\\n\", T03)\n",
        "\n"
      ]
    },
    {
      "cell_type": "markdown",
      "id": "dbfe60c7",
      "metadata": {
        "id": "dbfe60c7"
      },
      "source": [
        "### Question 3\n",
        "\n",
        "Write the matrices that represent the local coordinate frames $\\mathcal F\\{1\\}$, $\\mathcal F\\{2\\}$, and $\\mathcal F\\{3\\}$. These frames are indicated in green in Figure 1. The transformation matrices you need to write are $T_{0,1}$, $T_{1,2}$, and $T_{2,3}$."
      ]
    },
    {
      "cell_type": "code",
      "execution_count": null,
      "id": "bb0c3c41",
      "metadata": {
        "id": "bb0c3c41"
      },
      "outputs": [],
      "source": [
        "# Answer goes here. Add more code/markdown cells as needed\n",
        "\n",
        "# T_{0,1}: Transformation from frame 0 to frame 1\n",
        "p1 = np.array([3, 2])  # Location of the first joint\n",
        "T01 = np.array([[1, 0, p1[0]],\n",
        "               [0, 1, p1[1]],\n",
        "               [0, 0, 1]])\n",
        "\n",
        "# T_{1,2}: Transformation from frame 1 to frame 2\n",
        "L1 = 5  # Length of the first part\n",
        "phi1 = mph.pi / 8 # Assuming phi1 is given or defined elsewhere\n",
        "T12 = np.array([[np.cos(phi1), -np.sin(phi1), L1 * np.cos(phi1)],\n",
        "               [np.sin(phi1), np.cos(phi1), L1 * np.sin(phi1)],\n",
        "               [0, 0, 1]])\n",
        "\n",
        "# T_{2,3}: Transformation from frame 2 to frame 3\n",
        "L2 = 8  # Length of the second part\n",
        "phi2 = mph.pi / 4 # Assuming phi2 is given or defined elsewhere\n",
        "\n",
        "T23 = np.array([[np.cos(phi2), -np.sin(phi2), L2 * np.cos(phi2)],\n",
        "               [np.sin(phi2), np.cos(phi2), L2 * np.sin(phi2)],\n",
        "               [0, 0, 1]])\n",
        "\n",
        "# Display the transformation matrices (optional)\n",
        "print(\"T01:\\n\", T01)\n",
        "print(\"\\nT12:\\n\", T12)\n",
        "print(\"\\nT23:\\n\", T23)\n"
      ]
    },
    {
      "cell_type": "markdown",
      "id": "80d5ab08",
      "metadata": {
        "id": "80d5ab08"
      },
      "source": [
        "### Question 4\n",
        "\n",
        "Using the transformations from the previous questions, calculate the global coordinates of the middle point of each part of the robot arm when $\\phi_1 = \\pi/8$ and $\\phi_2 = \\pi/4$. Hint: the location of the middle point of part 1 is $(\\frac{L_1}{2},0)^\\mathsf{T}$ (w.r.t. frame $\\mathcal F\\{1\\}$)."
      ]
    },
    {
      "cell_type": "code",
      "execution_count": null,
      "id": "39fc9399",
      "metadata": {
        "id": "39fc9399"
      },
      "outputs": [],
      "source": [
        "# Answer goes here. Add more code/markdown cells as needed\n",
        "\n",
        "\n",
        "# Middle point of part 1 in frame 1\n",
        "midpoint_1_local = np.array([L1 / 2, 0, 1])  # Homogeneous coordinates\n",
        "\n",
        "# Transform midpoint_1 to global frame (frame 0)\n",
        "midpoint_1_global = np.dot(T01, midpoint_1_local)\n",
        "\n",
        "# Middle point of part 2 in frame 2\n",
        "midpoint_2_local = np.array([L2 / 2, 0, 1])  # Homogeneous coordinates\n",
        "\n",
        "# Transform midpoint_2 to global frame (frame 0)\n",
        "# First, transform to frame 1, then to frame 0\n",
        "midpoint_2_frame1 = np.dot(T12, midpoint_2_local)\n",
        "midpoint_2_global = np.dot(T01, midpoint_2_frame1)\n",
        "\n",
        "# Print the global coordinates\n",
        "print(\"Global coordinates of midpoint of part 1:\", midpoint_1_global[:2])  # Extract x, y\n",
        "print(\"Global coordinates of midpoint of part 2:\", midpoint_2_global[:2])  # Extract x, y\n",
        "\n"
      ]
    },
    {
      "cell_type": "markdown",
      "id": "7b1d733f",
      "metadata": {
        "id": "7b1d733f"
      },
      "source": [
        "### Question 5\n",
        "\n",
        "Using the transformations from the previous questions, calculate the global coordinates of all the joint points and the end-effector location when $\\phi_1 = \\pi/4$ and $\\phi_2 = \\pi/8$."
      ]
    },
    {
      "cell_type": "code",
      "execution_count": null,
      "id": "817e8a81",
      "metadata": {
        "id": "817e8a81"
      },
      "outputs": [],
      "source": [
        "# Answer goes here. Add more code/markdown cells as needed\n",
        "\n",
        "# Update phi1 and phi2\n",
        "phi1 = mph.pi / 4\n",
        "phi2 = mph.pi / 8\n",
        "\n",
        "# Redefine T12 and T23 with the new angles\n",
        "T12 = np.array([[np.cos(phi1), -np.sin(phi1), L1 * np.cos(phi1)],\n",
        "               [np.sin(phi1), np.cos(phi1), L1 * np.sin(phi1)],\n",
        "               [0, 0, 1]])\n",
        "\n",
        "T23 = np.array([[np.cos(phi2), -np.sin(phi2), L2 * np.cos(phi2)],\n",
        "               [np.sin(phi2), np.cos(phi2), L2 * np.sin(phi2)],\n",
        "               [0, 0, 1]])\n",
        "\n",
        "# Recalculate T02 and T03\n",
        "T02 = np.dot(T01, T12)\n",
        "T03 = np.dot(T02, T23)\n",
        "\n",
        "# Joint 1 (base joint) is already defined as p1 = [3, 2]\n",
        "\n",
        "# Joint 2 (in global coordinates)\n",
        "joint2_global = T02[:2, 2]  # Extract x, y from the third column of T02\n",
        "\n",
        "# Joint 3 (end-effector, in global coordinates)\n",
        "joint3_global = T03[:2, 2] #Extract x, y from the third column of T03\n",
        "\n",
        "# Print the global coordinates\n",
        "print(\"Global coordinates of Joint 1 (base):\", p1)\n",
        "print(\"Global coordinates of Joint 2:\", joint2_global)\n",
        "print(\"Global coordinates of Joint 3 (end-effector):\", joint3_global)\n",
        "\n"
      ]
    },
    {
      "cell_type": "markdown",
      "id": "66b1cac7",
      "metadata": {
        "id": "66b1cac7"
      },
      "source": [
        "### Question 6\n",
        "\n",
        "Write the matrix that represents the coordinate frame of the end effector w.r.t. frame  $\\mathcal F\\{1\\}$, i.e., $T_{1,3}$"
      ]
    },
    {
      "cell_type": "code",
      "execution_count": null,
      "id": "cf5fb9dd",
      "metadata": {
        "id": "cf5fb9dd",
        "tags": []
      },
      "outputs": [],
      "source": [
        "# Answer goes here. Add more code/markdown cells as needed\n",
        "\n",
        "\n",
        "# Calculate the inverse of T01\n",
        "T01_inv = np.linalg.inv(T01)\n",
        "\n",
        "# Calculate T13\n",
        "T13 = np.dot(T01_inv, T03)\n",
        "\n",
        "# Display T13\n",
        "print(\"T13:\\n\", T13)\n"
      ]
    },
    {
      "cell_type": "markdown",
      "id": "3a84cb79",
      "metadata": {
        "id": "3a84cb79"
      },
      "source": [
        "### Question 7\n",
        "\n",
        "Write the matrix that represents the coordinate frame $\\mathcal F\\{1\\}$ w.r.t. to the frame of the end effector"
      ]
    },
    {
      "cell_type": "code",
      "execution_count": null,
      "id": "b39f8800",
      "metadata": {
        "id": "b39f8800"
      },
      "outputs": [],
      "source": [
        "# Answer goes here. Add more code/markdown cells as needed\n",
        "\n",
        "\n",
        "# Calculate the inverse of T13 (found in Question 6)\n",
        "T31 = np.linalg.inv(T13)\n",
        "\n",
        "# Display T31\n",
        "print(\"T31:\\n\", T31)"
      ]
    }
  ],
  "metadata": {
    "colab": {
      "provenance": [],
      "include_colab_link": true
    },
    "kernelspec": {
      "display_name": "Python 3",
      "language": "python",
      "name": "python3"
    },
    "language_info": {
      "codemirror_mode": {
        "name": "ipython",
        "version": 3
      },
      "file_extension": ".py",
      "mimetype": "text/x-python",
      "name": "python",
      "nbconvert_exporter": "python",
      "pygments_lexer": "ipython3",
      "version": "3.9.2"
    }
  },
  "nbformat": 4,
  "nbformat_minor": 5
}