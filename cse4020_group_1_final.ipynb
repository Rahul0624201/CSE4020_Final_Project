{
 "cells": [
  {
   "cell_type": "markdown",
   "id": "a3a808e1",
   "metadata": {},
   "source": [
    "# CSE4020 Final Project"
   ]
  },
  {
   "cell_type": "code",
   "execution_count": 30,
   "id": "535b8bc8",
   "metadata": {},
   "outputs": [],
   "source": [
    "import mysql.connector"
   ]
  },
  {
   "cell_type": "code",
   "execution_count": 31,
   "id": "86e94593",
   "metadata": {},
   "outputs": [],
   "source": [
    "import csv"
   ]
  },
  {
   "cell_type": "code",
   "execution_count": 45,
   "id": "2a3af6ae",
   "metadata": {},
   "outputs": [
    {
     "name": "stdout",
     "output_type": "stream",
     "text": [
      "13 record(s) inserted into the person table\n",
      "7 record(s) inserted into the employee table\n",
      "13 record(s) inserted into the departure table\n",
      "17 record(s) inserted into the flight table\n",
      "3 record(s) inserted into the pilot table\n",
      "9 record(s) inserted into the plane table\n",
      "13 record(s) inserted into the aircraft table\n",
      "9 record(s) inserted into the can_fly table\n"
     ]
    }
   ],
   "source": [
    "tables = [\"person\", \"employee\", \"departure\", \"flight\", \"pilot\", \"plane\", \"aircraft\", \"can_fly\"]\n",
    "\n",
    "insert_statements = {\n",
    "    \"person\": \"INSERT INTO person (name, address, phone) VALUES (%s, %s, %s);\",\n",
    "    \"employee\": \"INSERT INTO employee (name, salary, employee_no) VALUES (%s, %s, %s);\",\n",
    "    \"pilot\": \"INSERT INTO pilot (employee_no, flight_Hours) VALUES (%s, %s);\",\n",
    "    \"plane\": \"INSERT INTO plane (maker, model_no) VALUES (%s, %s);\",\n",
    "    \"aircraft\": \"INSERT INTO aircraft (serial_no, model_no) VALUES (%s, %s);\",\n",
    "    \"passenger\": \"INSERT INTO passenger (ticket_number, name) VALUES (%s, %s);\", \n",
    "    \"booked_on\": \"INSERT INTO booked_on (ticket_number, date, flight_number) VALUES (%s, %s, %s);\",\n",
    "    \"assigned_to\": \"INSERT INTO assigned_to (employee_no, date, flight_number) VALUES (%s, %s, %s);\",\n",
    "    \"departure\": \"INSERT INTO departure (departure_date, flight_number) VALUES (%s, %s);\",\n",
    "    \"flight\": \"INSERT INTO flight (flight_number, origin, destination, departure_time, arrival_time, status) VALUES (%s, %s, %s, %s, %s, %s);\",\n",
    "    \"can_fly\": \"INSERT INTO can_fly (employee_no, model_number) VALUES (%s, %s);\"\n",
    "}\n",
    "\n",
    "try:\n",
    "    conn = mysql.connector.connect(\n",
    "        database='db_airways',\n",
    "        user='root',\n",
    "        password='oreois15',\n",
    "        host='localhost'\n",
    "    )\n",
    "    \n",
    "    cursor = conn.cursor()\n",
    "    \n",
    "    csv_files = {\n",
    "    \"person\": \"dataset/person.csv\",\n",
    "    \"employee\": \"dataset/employee.csv\",\n",
    "    \"pilot\": \"dataset/pilot.csv\",\n",
    "    \"plane\": \"dataset/plane.csv\",\n",
    "    \"aircraft\": \"dataset/aircraft.csv\",\n",
    "    \"passenger\": \"dataset/passenger.csv\",\n",
    "    \"departure\": \"dataset/departure.csv\",\n",
    "    \"flight\": \"dataset/flight.csv\",\n",
    "    \"can_fly\": \"dataset/can_fly.csv\"\n",
    "    }\n",
    "\n",
    "    for table in tables:\n",
    "        csv_file = csv_files[table]\n",
    "        \n",
    "        record_count = 0\n",
    "        \n",
    "        with open(csv_file, mode='r') as file:\n",
    "            csv_reader = csv.reader(file)\n",
    "            next(csv_reader)  # Skip header row\n",
    "            \n",
    "            for row in csv_reader:\n",
    "                record = tuple(row)\n",
    "                cursor.execute(insert_statements[table], record)\n",
    "                record_count += 1\n",
    "        \n",
    "        print(f'{record_count} record(s) inserted into the {table} table')\n",
    "\n",
    "    conn.commit()\n",
    "        \n",
    "except mysql.connector.Error as error:\n",
    "    print(f\"Error: {error}\")\n",
    "    conn.rollback()\n",
    "\n",
    "finally:\n",
    "    conn.close()\n"
   ]
  },
  {
   "cell_type": "code",
   "execution_count": 46,
   "id": "4e9296d2",
   "metadata": {},
   "outputs": [
    {
     "ename": "SyntaxError",
     "evalue": "invalid syntax (4122645218.py, line 1)",
     "output_type": "error",
     "traceback": [
      "\u001b[0;36m  Cell \u001b[0;32mIn[46], line 1\u001b[0;36m\u001b[0m\n\u001b[0;31m    INSERT INTO passenger_bookings (name, departure_date, flight_number, ticket_number) VALUES\u001b[0m\n\u001b[0m           ^\u001b[0m\n\u001b[0;31mSyntaxError\u001b[0m\u001b[0;31m:\u001b[0m invalid syntax\n"
     ]
    }
   ],
   "source": [
    "\"INSERT INTO passenger_bookings (name, departure_date, flight_number, ticket_number) VALUES \n",
    "('Smith', '2024-06-30', 100, 'DBA001'),\n",
    "('Green', '2024-06-30', 206, 'DBA002'),\n",
    "('Hooper', '2024-06-30', 334, 'DBA003'),\n",
    "('Edwards', '2024-06-30', 449, 'DBA004'),\n",
    "('MacBride', '2024-07-08', 991, 'DBA005'),\n",
    "('Gates', '2024-07-08', 991, 'DBA006'),\n",
    "('Rowe', '2024-07-08', 100, 'DBA007'),\n",
    "('Clark', '2024-07-08', 100, 'DBA008'),\n",
    "('Phillips', '2024-06-30', 449, 'DBA009'),\n",
    "('Warnock', '2024-06-30', 449, 'DBA010'),\n",
    "('Smith', '2024-07-08', 991, 'DBA011'),\n",
    "('Peters', '2024-07-08', 100, 'DBA012');"
   ]
  },
  {
   "cell_type": "code",
   "execution_count": null,
   "id": "d6bbc5e2",
   "metadata": {},
   "outputs": [],
   "source": []
  }
 ],
 "metadata": {
  "kernelspec": {
   "display_name": "Python 3 (ipykernel)",
   "language": "python",
   "name": "python3"
  },
  "language_info": {
   "codemirror_mode": {
    "name": "ipython",
    "version": 3
   },
   "file_extension": ".py",
   "mimetype": "text/x-python",
   "name": "python",
   "nbconvert_exporter": "python",
   "pygments_lexer": "ipython3",
   "version": "3.11.7"
  }
 },
 "nbformat": 4,
 "nbformat_minor": 5
}
