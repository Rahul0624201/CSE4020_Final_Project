{
 "cells": [
  {
   "cell_type": "markdown",
   "id": "0133404d",
   "metadata": {},
   "source": [
    "# CSE4020 Final Project"
   ]
  },
  {
   "cell_type": "code",
   "execution_count": 1,
   "id": "124a1995",
   "metadata": {},
   "outputs": [
    {
     "name": "stdout",
     "output_type": "stream",
     "text": [
      "Hello Wold!\n"
     ]
    }
   ],
   "source": [
    "print(\"Hello Wold!\")"
   ]
  },
  {
   "cell_type": "code",
   "execution_count": null,
   "id": "e69393ad",
   "metadata": {},
   "outputs": [],
   "source": []
  }
 ],
 "metadata": {
  "kernelspec": {
   "display_name": "Python 3 (ipykernel)",
   "language": "python",
   "name": "python3"
  },
  "language_info": {
   "codemirror_mode": {
    "name": "ipython",
    "version": 3
   },
   "file_extension": ".py",
   "mimetype": "text/x-python",
   "name": "python",
   "nbconvert_exporter": "python",
   "pygments_lexer": "ipython3",
   "version": "3.11.7"
  }
 },
 "nbformat": 4,
 "nbformat_minor": 5
}
